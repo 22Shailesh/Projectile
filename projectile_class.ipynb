{
 "cells": [
  {
   "cell_type": "markdown",
   "metadata": {},
   "source": [
    "### Usha Joshi\n",
    "\n",
    "# Projectile using class \n",
    "\n",
    "- **Maximum Height**\n",
    "\\begin{equation}\n",
    "H=\\frac{{u^2}{\\sin^2\\theta}}{2g}\n",
    "\\end{equation}\n",
    "\n",
    "- **Horizontal Range**\n",
    "\\begin{equation}\n",
    "R=\\frac{{u^2}{\\sin2\\theta}}{g}\n",
    "\\end{equation}\n",
    "\n",
    "\n",
    "\n",
    "- **Time of Flight**\n",
    "\\begin{equation}\n",
    "T=\\frac{{2u}{\\sin\\theta}}{g}\n",
    "\\end{equation}"
   ]
  },
  {
   "cell_type": "code",
   "execution_count": 46,
   "metadata": {},
   "outputs": [],
   "source": [
    "import numpy as np                     # from numpy import* not required to write np\n",
    "import pandas as pd                    # from pandas import* \n",
    "import json as json\n",
    "import matplotlib.pyplot as plt        # from matplotlib import*\n",
    "%matplotlib inline"
   ]
  },
  {
   "cell_type": "code",
   "execution_count": 23,
   "metadata": {},
   "outputs": [],
   "source": [
    "### (a)\n",
    "class projectile(object):\n",
    "    \n",
    "    def __init__(self, g, u, angle):\n",
    "        self.pi = np.pi\n",
    "        self.g = g    # acceleration due to gravity\n",
    "        self.u = u    # projecting velocity\n",
    "        self.angle = angle  # projecting angle\n",
    "        \n",
    "    def find_range(self):\n",
    "        RA = self.u**2*(np.sin(2*self.pi*self.angle/180))/self.g     # horizontal range\n",
    "        return RA\n",
    "    \n",
    "    def find_height(self):\n",
    "        MH = self.u**2*(np.sin(self.pi*self.angle/180)**2)/(2*self.g)# maximum height\n",
    "        return MH\n",
    "    \n",
    "    def find_time(self):\n",
    "        TF = 2*self.u*np.sin(self.pi*self.angle/180)/self.g          # Time of flight\n",
    "        return TF"
   ]
  },
  {
   "cell_type": "code",
   "execution_count": 24,
   "metadata": {},
   "outputs": [],
   "source": [
    "P1 =projectile(g=9.8, u=100, angle = 45)"
   ]
  },
  {
   "cell_type": "code",
   "execution_count": 25,
   "metadata": {},
   "outputs": [
    {
     "data": {
      "text/plain": [
       "(9.8, 100)"
      ]
     },
     "execution_count": 25,
     "metadata": {},
     "output_type": "execute_result"
    }
   ],
   "source": [
    "P1.g ,P1.u"
   ]
  },
  {
   "cell_type": "code",
   "execution_count": 26,
   "metadata": {},
   "outputs": [
    {
     "data": {
      "text/plain": [
       "(45, 1020.408163265306, 255.10204081632656, 14.430750636460154)"
      ]
     },
     "execution_count": 26,
     "metadata": {},
     "output_type": "execute_result"
    }
   ],
   "source": [
    " P1.angle,P1.find_range(),P1.find_height(),P1.find_time()"
   ]
  },
  {
   "cell_type": "code",
   "execution_count": 28,
   "metadata": {},
   "outputs": [],
   "source": [
    "### (b)\n",
    "class projectile(object):\n",
    "    \n",
    "    def __init__(self, g, u):\n",
    "        self.pi = np.pi\n",
    "        self.g = g    # acceleration due to gravity\n",
    "        self.u = u    # projecting velocity\n",
    "        #self.angle = angle  # projecting angle\n",
    "        \n",
    "    def find_range(self,angle):\n",
    "        RA = self.u**2*(np.sin(2*self.pi*angle/180))/self.g     # horizontal range\n",
    "        return RA\n",
    "    \n",
    "    def find_height(self,angle):\n",
    "        MH = self.u**2*(np.sin(self.pi*angle/180)**2)/(2*self.g)# maximum height\n",
    "        return MH\n",
    "    \n",
    "    def find_time(self,angle):\n",
    "        TF = 2*self.u*np.sin(self.pi*angle/180)/self.g          # Time of flight\n",
    "        return TF"
   ]
  },
  {
   "cell_type": "code",
   "execution_count": 29,
   "metadata": {},
   "outputs": [],
   "source": [
    "P2 =projectile(g=9.8, u=100)"
   ]
  },
  {
   "cell_type": "code",
   "execution_count": 30,
   "metadata": {},
   "outputs": [
    {
     "data": {
      "text/plain": [
       "(9.8, 100, 883.699391616774, 382.6530612244897, 17.67398783233548)"
      ]
     },
     "execution_count": 30,
     "metadata": {},
     "output_type": "execute_result"
    }
   ],
   "source": [
    "P2.g ,P2.u,P2.find_range(60),P2.find_height(60),P2.find_time(60)"
   ]
  },
  {
   "cell_type": "code",
   "execution_count": 31,
   "metadata": {},
   "outputs": [],
   "source": [
    "g=9.8        # m/s^2\n",
    "u = 100\n",
    "angle = []   # list of angle\n",
    "RA = []      # list of  range\n",
    "MH = []      # list of max height\n",
    "TF = []      #list of time of flight\n",
    "for i  in range(0,90+1,5):\n",
    "    \n",
    "    ra = P2.find_range(i)\n",
    "    mh = P2.find_height(i)\n",
    "    tf = P2.find_time(i)\n",
    "    angle.append(i)\n",
    "    RA.append(ra)   #add element in list RA\n",
    "    MH.append(mh)    #add element in list MH\n",
    "    TF.append(tf)    #add element in list TF"
   ]
  },
  {
   "cell_type": "code",
   "execution_count": 32,
   "metadata": {},
   "outputs": [
    {
     "data": {
      "image/png": "[encoded data removed]",
      "text/plain": [
       "<Figure size 720x288 with 2 Axes>"
      ]
     },
     "metadata": {
      "needs_background": "light"
     },
     "output_type": "display_data"
    }
   ],
   "source": [
    "#Multiplots/Subplots\n",
    "plt.figure(figsize=[10,4])\n",
    "plt.subplot(1,2,1)\n",
    "plt.plot(angle,RA,'rs--' ,label='Range')\n",
    "plt.plot(angle,MH ,'g-o', label='Max height')\n",
    "plt.xlabel('Angle(deg)')\n",
    "plt.ylabel('Distance(m)')\n",
    "plt.title('Projectile Motion')\n",
    "plt.legend()\n",
    "plt.subplot(1,2,2)\n",
    "plt.plot(angle,TF,'k^:' ,label='Time of flight')\n",
    "plt.xlabel('Angle(deg)')\n",
    "plt.ylabel('Time(sec)')\n",
    "plt.title('Projectile Motion')\n",
    "plt.legend()\n",
    "plt.savefig('plot/projective.png')\n",
    "#plt.savefig('projective.eps')\n",
    "#plt.show()"
   ]
  },
  {
   "cell_type": "code",
   "execution_count": 43,
   "metadata": {},
   "outputs": [],
   "source": [
    "data={}    # to save data in dictionary\n",
    "data.update({\"Angle\":angle,\"Range\":RA ,\"Max.Height\": MH,\"Time of flight\":TF})\n",
    "#print(data)"
   ]
  },
  {
   "cell_type": "code",
   "execution_count": 44,
   "metadata": {},
   "outputs": [
    {
     "data": {
      "text/html": [
       "<div>\n",
       "<style scoped>\n",
       "    .dataframe tbody tr th:only-of-type {\n",
       "        vertical-align: middle;\n",
       "    }\n",
       "\n",
       "    .dataframe tbody tr th {\n",
       "        vertical-align: top;\n",
       "    }\n",
       "\n",
       "    .dataframe thead th {\n",
       "        text-align: right;\n",
       "    }\n",
       "</style>\n",
       "<table border=\"1\" class=\"dataframe\">\n",
       "  <thead>\n",
       "    <tr style=\"text-align: right;\">\n",
       "      <th></th>\n",
       "      <th>Angle</th>\n",
       "      <th>Range</th>\n",
       "      <th>Max.Height</th>\n",
       "      <th>Time of flight</th>\n",
       "    </tr>\n",
       "  </thead>\n",
       "  <tbody>\n",
       "    <tr>\n",
       "      <th>0</th>\n",
       "      <td>0</td>\n",
       "      <td>0.000000</td>\n",
       "      <td>0.000000</td>\n",
       "      <td>0.000000</td>\n",
       "    </tr>\n",
       "    <tr>\n",
       "      <th>1</th>\n",
       "      <td>5</td>\n",
       "      <td>177.192018</td>\n",
       "      <td>3.875573</td>\n",
       "      <td>1.778689</td>\n",
       "    </tr>\n",
       "    <tr>\n",
       "      <th>2</th>\n",
       "      <td>10</td>\n",
       "      <td>349.000146</td>\n",
       "      <td>15.384536</td>\n",
       "      <td>3.543840</td>\n",
       "    </tr>\n",
       "    <tr>\n",
       "      <th>3</th>\n",
       "      <td>15</td>\n",
       "      <td>510.204082</td>\n",
       "      <td>34.177193</td>\n",
       "      <td>5.282021</td>\n",
       "    </tr>\n",
       "    <tr>\n",
       "      <th>4</th>\n",
       "      <td>20</td>\n",
       "      <td>655.905724</td>\n",
       "      <td>59.682540</td>\n",
       "      <td>6.980003</td>\n",
       "    </tr>\n",
       "  </tbody>\n",
       "</table>\n",
       "</div>"
      ],
      "text/plain": [
       "   Angle       Range  Max.Height  Time of flight\n",
       "0      0    0.000000    0.000000        0.000000\n",
       "1      5  177.192018    3.875573        1.778689\n",
       "2     10  349.000146   15.384536        3.543840\n",
       "3     15  510.204082   34.177193        5.282021\n",
       "4     20  655.905724   59.682540        6.980003"
      ]
     },
     "execution_count": 44,
     "metadata": {},
     "output_type": "execute_result"
    }
   ],
   "source": [
    "df = pd.DataFrame(data)\n",
    "df.head()"
   ]
  },
  {
   "cell_type": "code",
   "execution_count": 49,
   "metadata": {},
   "outputs": [],
   "source": [
    "with open(\"data/projectile.json\", 'w')as f:   #to load data in json file\n",
    "    json.dump(data,f)"
   ]
  },
  {
   "cell_type": "code",
   "execution_count": 50,
   "metadata": {},
   "outputs": [],
   "source": [
    "# to upload json file\n",
    "with open(\"data/projectile.json\", 'r')as f:\n",
    "    uploaded_data = json.load(f)"
   ]
  },
  {
   "cell_type": "code",
   "execution_count": 59,
   "metadata": {},
   "outputs": [],
   "source": [
    "df.to_csv(\"data/projectile.csv\")  #save data in csv format in excel"
   ]
  },
  {
   "cell_type": "code",
   "execution_count": 63,
   "metadata": {},
   "outputs": [
    {
     "data": {
      "text/html": [
       "<div>\n",
       "<style scoped>\n",
       "    .dataframe tbody tr th:only-of-type {\n",
       "        vertical-align: middle;\n",
       "    }\n",
       "\n",
       "    .dataframe tbody tr th {\n",
       "        vertical-align: top;\n",
       "    }\n",
       "\n",
       "    .dataframe thead th {\n",
       "        text-align: right;\n",
       "    }\n",
       "</style>\n",
       "<table border=\"1\" class=\"dataframe\">\n",
       "  <thead>\n",
       "    <tr style=\"text-align: right;\">\n",
       "      <th></th>\n",
       "      <th>Unnamed: 0</th>\n",
       "      <th>Angle</th>\n",
       "      <th>Range</th>\n",
       "      <th>Max.Height</th>\n",
       "      <th>Time of flight</th>\n",
       "    </tr>\n",
       "  </thead>\n",
       "  <tbody>\n",
       "    <tr>\n",
       "      <th>0</th>\n",
       "      <td>0</td>\n",
       "      <td>0</td>\n",
       "      <td>0.000000</td>\n",
       "      <td>0.000000</td>\n",
       "      <td>0.000000</td>\n",
       "    </tr>\n",
       "    <tr>\n",
       "      <th>1</th>\n",
       "      <td>1</td>\n",
       "      <td>5</td>\n",
       "      <td>177.192018</td>\n",
       "      <td>3.875573</td>\n",
       "      <td>1.778689</td>\n",
       "    </tr>\n",
       "    <tr>\n",
       "      <th>2</th>\n",
       "      <td>2</td>\n",
       "      <td>10</td>\n",
       "      <td>349.000146</td>\n",
       "      <td>15.384536</td>\n",
       "      <td>3.543840</td>\n",
       "    </tr>\n",
       "  </tbody>\n",
       "</table>\n",
       "</div>"
      ],
      "text/plain": [
       "   Unnamed: 0  Angle       Range  Max.Height  Time of flight\n",
       "0           0      0    0.000000    0.000000        0.000000\n",
       "1           1      5  177.192018    3.875573        1.778689\n",
       "2           2     10  349.000146   15.384536        3.543840"
      ]
     },
     "execution_count": 63,
     "metadata": {},
     "output_type": "execute_result"
    }
   ],
   "source": [
    "uploaded_data = pd.read_csv(\"data/projectile.csv\")\n",
    "uploaded_data.head(3)"
   ]
  },
  {
   "cell_type": "code",
   "execution_count": null,
   "metadata": {},
   "outputs": [],
   "source": []
  }
 ],
 "metadata": {
  "kernelspec": {
   "display_name": "Python 3",
   "language": "python",
   "name": "python3"
  },
  "language_info": {
   "codemirror_mode": {
    "name": "ipython",
    "version": 3
   },
   "file_extension": ".py",
   "mimetype": "text/x-python",
   "name": "python",
   "nbconvert_exporter": "python",
   "pygments_lexer": "ipython3",
   "version": "3.7.6"
  }
 },
 "nbformat": 4,
 "nbformat_minor": 4
}
